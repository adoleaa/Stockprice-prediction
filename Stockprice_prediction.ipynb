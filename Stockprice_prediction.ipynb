{
  "nbformat": 4,
  "nbformat_minor": 0,
  "metadata": {
    "colab": {
      "name": "Stockprice_prediction.ipynb",
      "provenance": [],
      "collapsed_sections": []
    },
    "kernelspec": {
      "name": "python3",
      "display_name": "Python 3"
    },
    "language_info": {
      "name": "python"
    }
  },
  "cells": [
    {
      "cell_type": "code",
      "metadata": {
        "id": "488Yvz3f8VOb"
      },
      "source": [
        "import numpy as np # importing relevant libraries required for this project\n",
        "import pandas as pd\n",
        "from sklearn import preprocessing\n",
        "from sklearn.model_selection import train_test_split\n",
        "from sklearn.linear_model import LinearRegression"
      ],
      "execution_count": 2,
      "outputs": []
    },
    {
      "cell_type": "code",
      "metadata": {
        "id": "NX3p6ytlMcBJ"
      },
      "source": [
        ""
      ],
      "execution_count": null,
      "outputs": []
    },
    {
      "cell_type": "markdown",
      "metadata": {
        "id": "sFK0IoHcZyk6"
      },
      "source": [
        "## Preparations of Data\n"
      ]
    },
    {
      "cell_type": "code",
      "metadata": {
        "id": "RAs7iOb_-u_K"
      },
      "source": [
        "def prepare_data(df,forecast_col, forecast_out, test_size):\n",
        "  label = df[forecast_col].shift(-forecast_out) # new column label created\n",
        "  X = np.array(df[[forecast_col]]) #feature array created\n",
        "  X = preprocessing.scale(X) #processing of feature array\n",
        "  X_lately = X[-forecast_out:] #column to be used later for prediction created\n",
        "  X = X[:-forecast_out] # X that will hold both training and testing set\n",
        "  label.dropna(inplace=True) #dropping the na values\n",
        "  y=np.array(label) #assigning Y\n",
        "  X_train, X_test, Y_train, Y_test = train_test_split(X, y, test_size = test_size, random_state=0) # cross validation\n",
        "\n",
        "  response = [X_train,X_test, Y_train, Y_test, X_lately]\n",
        "  return response"
      ],
      "execution_count": 6,
      "outputs": []
    },
    {
      "cell_type": "code",
      "metadata": {
        "id": "6qVPJwvJbE8c"
      },
      "source": [
        ""
      ],
      "execution_count": null,
      "outputs": []
    },
    {
      "cell_type": "markdown",
      "metadata": {
        "id": "nbAf381abGIa"
      },
      "source": [
        "## Importing and reading the datasets\n"
      ]
    },
    {
      "cell_type": "code",
      "metadata": {
        "id": "8N698uo5QxE9"
      },
      "source": [
        "df = pd.read_csv(\"https://raw.githubusercontent.com/adoleaa/Stockprice-prediction/main/price.csv\")"
      ],
      "execution_count": 7,
      "outputs": []
    },
    {
      "cell_type": "code",
      "metadata": {
        "colab": {
          "base_uri": "https://localhost:8080/",
          "height": 197
        },
        "id": "Swzoa2ZAXbAq",
        "outputId": "f505189a-d098-43d2-e2c2-20af9505a388"
      },
      "source": [
        "df.head()"
      ],
      "execution_count": 18,
      "outputs": [
        {
          "output_type": "execute_result",
          "data": {
            "text/html": [
              "<div>\n",
              "<style scoped>\n",
              "    .dataframe tbody tr th:only-of-type {\n",
              "        vertical-align: middle;\n",
              "    }\n",
              "\n",
              "    .dataframe tbody tr th {\n",
              "        vertical-align: top;\n",
              "    }\n",
              "\n",
              "    .dataframe thead th {\n",
              "        text-align: right;\n",
              "    }\n",
              "</style>\n",
              "<table border=\"1\" class=\"dataframe\">\n",
              "  <thead>\n",
              "    <tr style=\"text-align: right;\">\n",
              "      <th></th>\n",
              "      <th>Date</th>\n",
              "      <th>Open</th>\n",
              "      <th>High</th>\n",
              "      <th>Low</th>\n",
              "      <th>Close</th>\n",
              "      <th>Adj Close</th>\n",
              "      <th>Volume</th>\n",
              "    </tr>\n",
              "  </thead>\n",
              "  <tbody>\n",
              "    <tr>\n",
              "      <th>0</th>\n",
              "      <td>2020-01-27</td>\n",
              "      <td>71.320000</td>\n",
              "      <td>71.635002</td>\n",
              "      <td>71.320000</td>\n",
              "      <td>71.324997</td>\n",
              "      <td>71.324997</td>\n",
              "      <td>0</td>\n",
              "    </tr>\n",
              "    <tr>\n",
              "      <th>1</th>\n",
              "      <td>2020-01-28</td>\n",
              "      <td>71.654999</td>\n",
              "      <td>71.654999</td>\n",
              "      <td>71.178001</td>\n",
              "      <td>71.440002</td>\n",
              "      <td>71.440002</td>\n",
              "      <td>0</td>\n",
              "    </tr>\n",
              "    <tr>\n",
              "      <th>2</th>\n",
              "      <td>2020-01-29</td>\n",
              "      <td>71.230103</td>\n",
              "      <td>71.425003</td>\n",
              "      <td>71.168503</td>\n",
              "      <td>71.230400</td>\n",
              "      <td>71.230400</td>\n",
              "      <td>0</td>\n",
              "    </tr>\n",
              "    <tr>\n",
              "      <th>3</th>\n",
              "      <td>2020-01-30</td>\n",
              "      <td>71.300003</td>\n",
              "      <td>71.711998</td>\n",
              "      <td>71.300003</td>\n",
              "      <td>71.300003</td>\n",
              "      <td>71.300003</td>\n",
              "      <td>0</td>\n",
              "    </tr>\n",
              "    <tr>\n",
              "      <th>4</th>\n",
              "      <td>2020-01-31</td>\n",
              "      <td>71.639999</td>\n",
              "      <td>71.639999</td>\n",
              "      <td>71.277496</td>\n",
              "      <td>71.639999</td>\n",
              "      <td>71.639999</td>\n",
              "      <td>0</td>\n",
              "    </tr>\n",
              "  </tbody>\n",
              "</table>\n",
              "</div>"
            ],
            "text/plain": [
              "         Date       Open       High        Low      Close  Adj Close  Volume\n",
              "0  2020-01-27  71.320000  71.635002  71.320000  71.324997  71.324997       0\n",
              "1  2020-01-28  71.654999  71.654999  71.178001  71.440002  71.440002       0\n",
              "2  2020-01-29  71.230103  71.425003  71.168503  71.230400  71.230400       0\n",
              "3  2020-01-30  71.300003  71.711998  71.300003  71.300003  71.300003       0\n",
              "4  2020-01-31  71.639999  71.639999  71.277496  71.639999  71.639999       0"
            ]
          },
          "metadata": {
            "tags": []
          },
          "execution_count": 18
        }
      ]
    },
    {
      "cell_type": "code",
      "metadata": {
        "colab": {
          "base_uri": "https://localhost:8080/",
          "height": 197
        },
        "id": "wvcQBMflZDEX",
        "outputId": "7b65d3e5-f8d9-4b5a-fa86-08040e8e57e4"
      },
      "source": [
        "df.tail()"
      ],
      "execution_count": 28,
      "outputs": [
        {
          "output_type": "execute_result",
          "data": {
            "text/html": [
              "<div>\n",
              "<style scoped>\n",
              "    .dataframe tbody tr th:only-of-type {\n",
              "        vertical-align: middle;\n",
              "    }\n",
              "\n",
              "    .dataframe tbody tr th {\n",
              "        vertical-align: top;\n",
              "    }\n",
              "\n",
              "    .dataframe thead th {\n",
              "        text-align: right;\n",
              "    }\n",
              "</style>\n",
              "<table border=\"1\" class=\"dataframe\">\n",
              "  <thead>\n",
              "    <tr style=\"text-align: right;\">\n",
              "      <th></th>\n",
              "      <th>Date</th>\n",
              "      <th>Open</th>\n",
              "      <th>High</th>\n",
              "      <th>Low</th>\n",
              "      <th>Close</th>\n",
              "      <th>Adj Close</th>\n",
              "      <th>Volume</th>\n",
              "    </tr>\n",
              "  </thead>\n",
              "  <tbody>\n",
              "    <tr>\n",
              "      <th>257</th>\n",
              "      <td>2021-01-20</td>\n",
              "      <td>73.192001</td>\n",
              "      <td>73.192299</td>\n",
              "      <td>72.899300</td>\n",
              "      <td>73.191902</td>\n",
              "      <td>73.191902</td>\n",
              "      <td>0</td>\n",
              "    </tr>\n",
              "    <tr>\n",
              "      <th>258</th>\n",
              "      <td>2021-01-21</td>\n",
              "      <td>72.907898</td>\n",
              "      <td>73.045303</td>\n",
              "      <td>72.883003</td>\n",
              "      <td>72.910896</td>\n",
              "      <td>72.910896</td>\n",
              "      <td>0</td>\n",
              "    </tr>\n",
              "    <tr>\n",
              "      <th>259</th>\n",
              "      <td>2021-01-22</td>\n",
              "      <td>72.954903</td>\n",
              "      <td>73.237503</td>\n",
              "      <td>72.929001</td>\n",
              "      <td>72.954903</td>\n",
              "      <td>72.954903</td>\n",
              "      <td>0</td>\n",
              "    </tr>\n",
              "    <tr>\n",
              "      <th>260</th>\n",
              "      <td>2021-01-25</td>\n",
              "      <td>72.995903</td>\n",
              "      <td>73.220001</td>\n",
              "      <td>72.877998</td>\n",
              "      <td>72.995903</td>\n",
              "      <td>72.995903</td>\n",
              "      <td>0</td>\n",
              "    </tr>\n",
              "    <tr>\n",
              "      <th>261</th>\n",
              "      <td>2021-01-26</td>\n",
              "      <td>72.970001</td>\n",
              "      <td>73.222000</td>\n",
              "      <td>72.774498</td>\n",
              "      <td>72.970001</td>\n",
              "      <td>72.970001</td>\n",
              "      <td>0</td>\n",
              "    </tr>\n",
              "  </tbody>\n",
              "</table>\n",
              "</div>"
            ],
            "text/plain": [
              "           Date       Open       High        Low      Close  Adj Close  Volume\n",
              "257  2021-01-20  73.192001  73.192299  72.899300  73.191902  73.191902       0\n",
              "258  2021-01-21  72.907898  73.045303  72.883003  72.910896  72.910896       0\n",
              "259  2021-01-22  72.954903  73.237503  72.929001  72.954903  72.954903       0\n",
              "260  2021-01-25  72.995903  73.220001  72.877998  72.995903  72.995903       0\n",
              "261  2021-01-26  72.970001  73.222000  72.774498  72.970001  72.970001       0"
            ]
          },
          "metadata": {
            "tags": []
          },
          "execution_count": 28
        }
      ]
    },
    {
      "cell_type": "code",
      "metadata": {
        "id": "wRGZcQFhUkps"
      },
      "source": [
        "forecast_col = \"Close\""
      ],
      "execution_count": 19,
      "outputs": []
    },
    {
      "cell_type": "code",
      "metadata": {
        "id": "WLtIdYm8U6Bq"
      },
      "source": [
        "forecast_out = 5"
      ],
      "execution_count": 10,
      "outputs": []
    },
    {
      "cell_type": "code",
      "metadata": {
        "id": "WdLwQ2ecU-ej"
      },
      "source": [
        "test_size = 0.2"
      ],
      "execution_count": 11,
      "outputs": []
    },
    {
      "cell_type": "code",
      "metadata": {
        "id": "93UYNc7XVG4P"
      },
      "source": [
        ""
      ],
      "execution_count": null,
      "outputs": []
    },
    {
      "cell_type": "code",
      "metadata": {
        "id": "rSvTBujHVHxp"
      },
      "source": [
        "X_train, X_test, Y_train, Y_test, X_lately = prepare_data(df, forecast_col, forecast_out, test_size)\n",
        "learner = LinearRegression() #initializing linear regression model\n",
        "                                                          "
      ],
      "execution_count": 20,
      "outputs": []
    },
    {
      "cell_type": "code",
      "metadata": {
        "colab": {
          "base_uri": "https://localhost:8080/"
        },
        "id": "2qSLta9EXp2G",
        "outputId": "46a57500-f828-426e-8ffa-5e7cbc109fa1"
      },
      "source": [
        "learner.fit(X_train, Y_train) #training the linear regression model"
      ],
      "execution_count": 21,
      "outputs": [
        {
          "output_type": "execute_result",
          "data": {
            "text/plain": [
              "LinearRegression(copy_X=True, fit_intercept=True, n_jobs=None, normalize=False)"
            ]
          },
          "metadata": {
            "tags": []
          },
          "execution_count": 21
        }
      ]
    },
    {
      "cell_type": "code",
      "metadata": {
        "id": "01CQB2QOX323"
      },
      "source": [
        "score=learner.score(X_test, Y_test) #testing the linear regression model"
      ],
      "execution_count": 22,
      "outputs": []
    },
    {
      "cell_type": "code",
      "metadata": {
        "id": "dnf3EmFcYCoI"
      },
      "source": [
        "forecast=learner.predict(X_lately) #set that will hold the forecasted data"
      ],
      "execution_count": 23,
      "outputs": []
    },
    {
      "cell_type": "code",
      "metadata": {
        "id": "qMlAFo_3YKIA"
      },
      "source": [
        "response={} # json object created"
      ],
      "execution_count": 24,
      "outputs": []
    },
    {
      "cell_type": "code",
      "metadata": {
        "id": "HDCriUFlYVAC"
      },
      "source": [
        "response[\"test_score\"]=score"
      ],
      "execution_count": 25,
      "outputs": []
    },
    {
      "cell_type": "code",
      "metadata": {
        "id": "OjebhDZeYfkj"
      },
      "source": [
        "response['forecast_set']=forecast"
      ],
      "execution_count": 26,
      "outputs": []
    },
    {
      "cell_type": "code",
      "metadata": {
        "colab": {
          "base_uri": "https://localhost:8080/"
        },
        "id": "C9GB122GYq_z",
        "outputId": "95b71561-fa16-4fdd-c5e5-8b2c53a88c68"
      },
      "source": [
        "print(response)"
      ],
      "execution_count": 27,
      "outputs": [
        {
          "output_type": "stream",
          "text": [
            "{'test_score': 0.639145178346672, 'forecast_set': array([73.37040254, 73.12634778, 73.16456803, 73.20017668, 73.1776807 ])}\n"
          ],
          "name": "stdout"
        }
      ]
    }
  ]
}